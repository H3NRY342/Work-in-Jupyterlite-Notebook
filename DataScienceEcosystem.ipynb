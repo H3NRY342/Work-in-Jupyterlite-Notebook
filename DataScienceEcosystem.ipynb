{
 "cells": [
  {
   "cell_type": "markdown",
   "id": "59cf5722-63dc-472d-b64d-e9be5adfc867",
   "metadata": {},
   "source": [
    "# Data Science Tools and Ecosystem"
   ]
  },
  {
   "cell_type": "markdown",
   "id": "f0a761b9-e9c8-4989-b419-beb0f9452b09",
   "metadata": {},
   "source": [
    "# In this notebook, Data Science Tools and Ecosystem are summarized."
   ]
  },
  {
   "cell_type": "markdown",
   "id": "ddd943a8-53ed-44cd-b106-e9e195f91ea2",
   "metadata": {},
   "source": [
    "## Some of the popular languages that Data Scientists use are:\n",
    "1. Python\n",
    "2. R\n",
    "3. SQL\n",
    "4. Julia\n",
    "5. MATLAB"
   ]
  },
  {
   "cell_type": "markdown",
   "id": "f161c9a1-eeec-429e-b737-3843999ae0de",
   "metadata": {},
   "source": [
    "# Bibliotecas de Ciencia de Datos\n",
    "\n",
    "Some of the commonly used libraries used by Data Scientists include:\n",
    "\n",
    "1. **Pandas**: Used for data manipulation and analysis.\n",
    "2. **NumPy**: Used for numerical computing.\n",
    "3. **Matplotlib**: Used for data visualization.\n",
    "4. **Scikit-learn**: Used for machine learning.\n",
    "5. **TensorFlow**: Used for deep learning.\n",
    "6. **SciPy**: Used for scientific and technical computing.\n"
   ]
  },
  {
   "cell_type": "markdown",
   "id": "b2a2bf08-c812-4d92-9292-723ddccd4dcb",
   "metadata": {},
   "source": [
    "# Herramientas de Ciencia de Datos\n",
    "\n",
    "| Data Science Tools       |\n",
    "|--------------------------|\n",
    "| Jupyter Notebook         |\n",
    "| RStudio                  |\n",
    "| Apache Zeppelin          |\n"
   ]
  },
  {
   "cell_type": "markdown",
   "id": "059bc38f-c1bf-4ffc-851a-6b586701c84f",
   "metadata": {},
   "source": [
    "### Below are a few examples of evaluating arithmetic expressions in Python\n",
    "\n",
    "# This a simple arithmetic expression to multiply then add integers.\n",
    "(3 * 4) + 5\n"
   ]
  },
  {
   "cell_type": "markdown",
   "id": "4c745904-4304-4b52-bcd5-2955b6b60a6a",
   "metadata": {},
   "source": [
    "# This a simple arithmetic expression to multiply then add integers.\n",
    "(3 * 4) + 5\n"
   ]
  },
  {
   "cell_type": "markdown",
   "id": "20f093c2-a497-42df-b7af-33b2b2439ab0",
   "metadata": {},
   "source": [
    "# This will convert 200 minutes to hours by dividing by 60.\n",
    "200 / 60\n"
   ]
  },
  {
   "cell_type": "markdown",
   "id": "d172f884-321a-4f7f-b078-0cf9fd42121e",
   "metadata": {},
   "source": [
    "# Introducción\n",
    "\n",
    "En este cuaderno, se resumen las herramientas y el ecosistema de la Ciencia de Datos.\n",
    "\n",
    "**Objectives:**\n",
    "\n",
    "- List popular languages for Data Science.\n",
    "- Describe common libraries used by Data Scientists.\n",
    "- Create and interpret basic arithmetic expressions in Python.\n",
    "- Convert time units (minutes to hours) using Python.\n",
    "- Summarize tools and environments used in Data Science.\n"
   ]
  },
  {
   "cell_type": "markdown",
   "id": "e8a1c1c8-b0b9-4693-b00d-145ba009a02f",
   "metadata": {},
   "source": [
    "## Author\n",
    "\n",
    "Tu Nombre\n"
   ]
  },
  {
   "cell_type": "code",
   "execution_count": null,
   "id": "c5ef32f4-199f-4f9c-af9d-0e3a02666b14",
   "metadata": {},
   "outputs": [],
   "source": []
  }
 ],
 "metadata": {
  "kernelspec": {
   "display_name": "",
   "name": ""
  },
  "language_info": {
   "name": ""
  }
 },
 "nbformat": 4,
 "nbformat_minor": 5
}
